{
 "cells": [
  {
   "cell_type": "code",
   "execution_count": null,
   "id": "45106fdc",
   "metadata": {},
   "outputs": [],
   "source": [
    "## overwritten in random forest rf.ipynb\n",
    "##and the next file of random forest."
   ]
  }
 ],
 "metadata": {
  "language_info": {
   "name": "python"
  }
 },
 "nbformat": 4,
 "nbformat_minor": 5
}
